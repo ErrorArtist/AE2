{
 "cells": [
  {
   "cell_type": "code",
   "execution_count": 1,
   "metadata": {},
   "outputs": [],
   "source": [
    "# Packages\n",
    "import numpy as np\n",
    "import pandas as pd\n",
    "from statsmodels.sandbox.regression.gmm import IV2SLS\n",
    "import matplotlib.pyplot as plt\n",
    "import seaborn as sns\n",
    "import statsmodels.api as sm\n",
    "from pandas.api.types import CategoricalDtype\n",
    "from tqdm import tqdm\n",
    "from scipy.stats import skew, kurtosis\n",
    "from sklearn.linear_model import LinearRegression\n",
    "import plotly.express as px\n",
    "\n",
    "#import dataframe_image as dfi\n",
    "import jinja2\n",
    "from statsmodels.distributions.empirical_distribution import ECDF\n",
    "\n",
    "# Normality tests\n",
    "from scipy.stats import jarque_bera, shapiro, anderson, cramervonmises,t,chi2\n",
    "from scipy.stats import norm, zscore\n",
    "from statsmodels.stats.diagnostic import lilliefors\n",
    "from statsmodels.stats.stattools import jarque_bera\n",
    "from statsmodels.stats.stattools import omni_normtest # Doornik-Hansen"
   ]
  },
  {
   "cell_type": "markdown",
   "metadata": {},
   "source": [
    "## Question 5"
   ]
  },
  {
   "cell_type": "code",
   "execution_count": 2,
   "metadata": {},
   "outputs": [
    {
     "data": {
      "text/html": [
       "<div>\n",
       "<style scoped>\n",
       "    .dataframe tbody tr th:only-of-type {\n",
       "        vertical-align: middle;\n",
       "    }\n",
       "\n",
       "    .dataframe tbody tr th {\n",
       "        vertical-align: top;\n",
       "    }\n",
       "\n",
       "    .dataframe thead th {\n",
       "        text-align: right;\n",
       "    }\n",
       "</style>\n",
       "<table border=\"1\" class=\"dataframe\">\n",
       "  <thead>\n",
       "    <tr style=\"text-align: right;\">\n",
       "      <th></th>\n",
       "      <th>age</th>\n",
       "      <th>age2</th>\n",
       "      <th>ed</th>\n",
       "      <th>exper</th>\n",
       "      <th>exper2</th>\n",
       "      <th>nearc2</th>\n",
       "      <th>nearc4</th>\n",
       "      <th>nearc4a</th>\n",
       "      <th>nearc4b</th>\n",
       "      <th>race</th>\n",
       "      <th>smsa</th>\n",
       "      <th>south</th>\n",
       "      <th>wage</th>\n",
       "    </tr>\n",
       "  </thead>\n",
       "  <tbody>\n",
       "    <tr>\n",
       "      <th>0</th>\n",
       "      <td>29</td>\n",
       "      <td>841</td>\n",
       "      <td>7</td>\n",
       "      <td>16</td>\n",
       "      <td>256</td>\n",
       "      <td>0</td>\n",
       "      <td>0</td>\n",
       "      <td>0</td>\n",
       "      <td>0.001220</td>\n",
       "      <td>1</td>\n",
       "      <td>1</td>\n",
       "      <td>0</td>\n",
       "      <td>6.306275</td>\n",
       "    </tr>\n",
       "    <tr>\n",
       "      <th>1</th>\n",
       "      <td>27</td>\n",
       "      <td>729</td>\n",
       "      <td>12</td>\n",
       "      <td>9</td>\n",
       "      <td>81</td>\n",
       "      <td>0</td>\n",
       "      <td>0</td>\n",
       "      <td>0</td>\n",
       "      <td>-0.002496</td>\n",
       "      <td>0</td>\n",
       "      <td>1</td>\n",
       "      <td>0</td>\n",
       "      <td>6.175867</td>\n",
       "    </tr>\n",
       "    <tr>\n",
       "      <th>2</th>\n",
       "      <td>34</td>\n",
       "      <td>1156</td>\n",
       "      <td>12</td>\n",
       "      <td>16</td>\n",
       "      <td>256</td>\n",
       "      <td>0</td>\n",
       "      <td>0</td>\n",
       "      <td>0</td>\n",
       "      <td>-0.000917</td>\n",
       "      <td>0</td>\n",
       "      <td>1</td>\n",
       "      <td>0</td>\n",
       "      <td>6.580639</td>\n",
       "    </tr>\n",
       "    <tr>\n",
       "      <th>3</th>\n",
       "      <td>27</td>\n",
       "      <td>729</td>\n",
       "      <td>11</td>\n",
       "      <td>10</td>\n",
       "      <td>100</td>\n",
       "      <td>1</td>\n",
       "      <td>1</td>\n",
       "      <td>1</td>\n",
       "      <td>-0.001483</td>\n",
       "      <td>0</td>\n",
       "      <td>1</td>\n",
       "      <td>0</td>\n",
       "      <td>5.521461</td>\n",
       "    </tr>\n",
       "    <tr>\n",
       "      <th>4</th>\n",
       "      <td>34</td>\n",
       "      <td>1156</td>\n",
       "      <td>12</td>\n",
       "      <td>16</td>\n",
       "      <td>256</td>\n",
       "      <td>1</td>\n",
       "      <td>1</td>\n",
       "      <td>1</td>\n",
       "      <td>0.000939</td>\n",
       "      <td>0</td>\n",
       "      <td>1</td>\n",
       "      <td>0</td>\n",
       "      <td>6.591674</td>\n",
       "    </tr>\n",
       "  </tbody>\n",
       "</table>\n",
       "</div>"
      ],
      "text/plain": [
       "   age  age2  ed  exper  exper2  nearc2  nearc4  nearc4a   nearc4b  race  \\\n",
       "0   29   841   7     16     256       0       0        0  0.001220     1   \n",
       "1   27   729  12      9      81       0       0        0 -0.002496     0   \n",
       "2   34  1156  12     16     256       0       0        0 -0.000917     0   \n",
       "3   27   729  11     10     100       1       1        1 -0.001483     0   \n",
       "4   34  1156  12     16     256       1       1        1  0.000939     0   \n",
       "\n",
       "   smsa  south      wage  \n",
       "0     1      0  6.306275  \n",
       "1     1      0  6.175867  \n",
       "2     1      0  6.580639  \n",
       "3     1      0  5.521461  \n",
       "4     1      0  6.591674  "
      ]
     },
     "execution_count": 2,
     "metadata": {},
     "output_type": "execute_result"
    }
   ],
   "source": [
    "# import data and preview\n",
    "df = pd.read_csv('assignmentweakinstruments.csv')\n",
    "df.head() "
   ]
  },
  {
   "cell_type": "markdown",
   "metadata": {},
   "source": [
    "### a)"
   ]
  },
  {
   "cell_type": "code",
   "execution_count": 3,
   "metadata": {},
   "outputs": [
    {
     "name": "stdout",
     "output_type": "stream",
     "text": [
      "Confidence interval using 2SLS statistic:            0         1\n",
      "ed -0.043482  0.743009\n"
     ]
    }
   ],
   "source": [
    "## a) Using only nearc2 as an instrument, construct the 95% conÖdence set for the return on education using the 2SLS t-statistic and the AR statistic.\n",
    "\n",
    "## first create matrix w\n",
    "df['constant'] = 1\n",
    "\n",
    "# Select the required columns and combine them into a matrix\n",
    "columns_to_include = ['exper', 'exper2', 'south', 'smsa', 'race', 'constant']\n",
    "w = df[columns_to_include].values\n",
    "\n",
    "### regress y, x, z on W then obtain M_wy etc.\n",
    "def partial_out(variable, W):\n",
    "    \"\"\"Regress variable on W and return residuals.\"\"\"\n",
    "    reg = LinearRegression(fit_intercept=False).fit(W, variable)\n",
    "    residuals = variable - W @ reg.coef_.T\n",
    "    return residuals\n",
    "\n",
    "y=partial_out(df['wage'],w)\n",
    "X=partial_out(df['ed'],w)\n",
    "Z=partial_out(df['nearc2'],w)\n",
    "\n",
    "alpha = 0.05\n",
    "test_2sls = IV2SLS(y, X, Z).fit()\n",
    "print(f'Confidence interval using 2SLS statistic: {test_2sls.conf_int(alpha)}')"
   ]
  },
  {
   "cell_type": "code",
   "execution_count": 4,
   "metadata": {},
   "outputs": [
    {
     "name": "stdout",
     "output_type": "stream",
     "text": [
      "The 95% confidence interval for 2SLS t-statistic is (-0.04348185177658398,0.7430090199491135)\n",
      "The t-statistic for the 2SLS estimater is 1.7439487536638936\n"
     ]
    }
   ],
   "source": [
    "## a) Using only nearc2 as an instrument, construct the 95% conÖdence set for the return on education using the 2SLS t-statistic and the AR statistic.\n",
    "\n",
    "## first create matrix w\n",
    "df['constant'] = 1\n",
    "\n",
    "# Select the required columns and combine them into a matrix\n",
    "columns_to_include = ['exper', 'exper2', 'south', 'smsa', 'race', 'constant']\n",
    "w = df[columns_to_include].values\n",
    "\n",
    "### regress y, x, z on W then obtain M_wy etc.\n",
    "def partial_out(variable, W):\n",
    "    \"\"\"Regress variable on W and return residuals.\"\"\"\n",
    "    reg = LinearRegression(fit_intercept=False).fit(W, variable)\n",
    "    hat=W @ reg.coef_.T\n",
    "    residuals = variable - W @ reg.coef_.T\n",
    "    return residuals,hat\n",
    "\n",
    "y=partial_out(df['wage'],w)[0]\n",
    "x=partial_out(df['ed'],w)[0]\n",
    "z=partial_out(df['nearc2'],w)[0]\n",
    "\n",
    "\n",
    "### 2sls\n",
    "def two_sls(y, x, z):\n",
    "\n",
    "    n = len(y)\n",
    "\n",
    "    # Estimate pi_hat\n",
    "    pi_hat = np.sum(x*z)/np.sum(z**2)\n",
    "\n",
    "    # Compute residuals from 1st stage regression\n",
    "    x_hat = pi_hat*z\n",
    "    u_hat = x - x_hat\n",
    "\n",
    "    # Estimate beta_hat\n",
    "    beta_hat = np.sum(x_hat*y)/np.sum(x_hat**2)\n",
    "\n",
    "    # Compute residuals from 2nd stage regression\n",
    "    eps_hat = y - beta_hat*x\n",
    "\n",
    "    # Compute standard error of beta_hat\n",
    "    s_2 = np.sum(eps_hat**2) / (n - 1)  # residual variance; (n-1) because we only have 1 regressor and no intercept\n",
    "    se_beta_hat = np.sqrt (s_2 / np.sum(x_hat**2))  # standard error of 2SLS estimator\n",
    "    # np.sqrt (s_2 * np.sum(z*z) / np.sum((z*x)**2)) this formula is equivalent, but gives numerical instability\n",
    "\n",
    "    # t statistic\n",
    "    t_2sls=beta_hat/se_beta_hat\n",
    "\n",
    "    #CI\n",
    "    CI_upper=beta_hat-se_beta_hat*t.ppf(0.05 / 2, n-1)\n",
    "    CI_lower=beta_hat-se_beta_hat*t.ppf(1 - 0.05 / 2, n-1)\n",
    "\n",
    "    # Return fitted residuals\n",
    "    return beta_hat, pi_hat, eps_hat, u_hat, se_beta_hat,t_2sls,CI_lower,CI_upper\n",
    "\n",
    "t_2sls=two_sls(y,x,z)[5]\n",
    "t_CI_upper=two_sls(y,x,z)[-1]\n",
    "t_CI_lower=two_sls(y,x,z)[-2]\n",
    "\n",
    "print(f\"The 95% confidence interval for 2SLS t-statistic is ({t_CI_lower},{t_CI_upper})\")\n",
    "print(f\"The t-statistic for the 2SLS estimater is {t_2sls}\")\n",
    "\n"
   ]
  },
  {
   "cell_type": "code",
   "execution_count": 5,
   "metadata": {},
   "outputs": [
    {
     "ename": "KeyboardInterrupt",
     "evalue": "",
     "output_type": "error",
     "traceback": [
      "\u001b[0;31m---------------------------------------------------------------------------\u001b[0m",
      "\u001b[0;31mKeyboardInterrupt\u001b[0m                         Traceback (most recent call last)",
      "Cell \u001b[0;32mIn[5], line 18\u001b[0m\n\u001b[1;32m     16\u001b[0m \u001b[38;5;28;01mfor\u001b[39;00m beta \u001b[38;5;129;01min\u001b[39;00m beta0:\n\u001b[1;32m     17\u001b[0m     z\u001b[38;5;241m=\u001b[39mnp\u001b[38;5;241m.\u001b[39marray(z)\u001b[38;5;241m.\u001b[39mreshape(\u001b[38;5;241m-\u001b[39m\u001b[38;5;241m1\u001b[39m,\u001b[38;5;241m1\u001b[39m)\n\u001b[0;32m---> 18\u001b[0m     AR\u001b[38;5;241m.\u001b[39mappend(AR_stat(x, y, z, beta))\n\u001b[1;32m     19\u001b[0m \u001b[38;5;28mprint\u001b[39m(\u001b[38;5;124mf\u001b[39m\u001b[38;5;124m\"\u001b[39m\u001b[38;5;124mThe critical value for 2SLS AR-statistic is \u001b[39m\u001b[38;5;132;01m{\u001b[39;00mchi2\u001b[38;5;241m.\u001b[39mppf(\u001b[38;5;241m0.95\u001b[39m,\u001b[38;5;241m1\u001b[39m)\u001b[38;5;132;01m}\u001b[39;00m\u001b[38;5;124m\"\u001b[39m)\n",
      "Cell \u001b[0;32mIn[5], line 8\u001b[0m, in \u001b[0;36mAR_stat\u001b[0;34m(X, Y, Z, B_0)\u001b[0m\n\u001b[1;32m      5\u001b[0m k \u001b[38;5;241m=\u001b[39m Z\u001b[38;5;241m.\u001b[39mshape[\u001b[38;5;241m1\u001b[39m]\n\u001b[1;32m      7\u001b[0m numerator \u001b[38;5;241m=\u001b[39m (y \u001b[38;5;241m-\u001b[39m X\u001b[38;5;241m*\u001b[39mB_0)\u001b[38;5;241m.\u001b[39mT \u001b[38;5;241m@\u001b[39m (Z\u001b[38;5;129m@np\u001b[39m\u001b[38;5;241m.\u001b[39mlinalg\u001b[38;5;241m.\u001b[39minv(Z\u001b[38;5;241m.\u001b[39mT\u001b[38;5;129m@Z\u001b[39m)\u001b[38;5;129m@Z\u001b[39m\u001b[38;5;241m.\u001b[39mT) \u001b[38;5;241m@\u001b[39m (y \u001b[38;5;241m-\u001b[39m X\u001b[38;5;241m*\u001b[39mB_0)\u001b[38;5;241m.\u001b[39mT \u001b[38;5;241m/\u001b[39m k\n\u001b[0;32m----> 8\u001b[0m denominator \u001b[38;5;241m=\u001b[39m (y \u001b[38;5;241m-\u001b[39m X\u001b[38;5;241m*\u001b[39mB_0)\u001b[38;5;241m.\u001b[39mT \u001b[38;5;241m@\u001b[39m (np\u001b[38;5;241m.\u001b[39meye(N) \u001b[38;5;241m-\u001b[39m Z\u001b[38;5;129m@np\u001b[39m\u001b[38;5;241m.\u001b[39mlinalg\u001b[38;5;241m.\u001b[39minv(Z\u001b[38;5;241m.\u001b[39mT\u001b[38;5;129m@Z\u001b[39m)\u001b[38;5;129m@Z\u001b[39m\u001b[38;5;241m.\u001b[39mT) \u001b[38;5;241m@\u001b[39m (y \u001b[38;5;241m-\u001b[39m X\u001b[38;5;241m*\u001b[39mB_0)\u001b[38;5;241m.\u001b[39mT \u001b[38;5;241m/\u001b[39m (N \u001b[38;5;241m-\u001b[39m k)\n\u001b[1;32m      9\u001b[0m AR_statistic\u001b[38;5;241m=\u001b[39mnumerator \u001b[38;5;241m/\u001b[39m denominator\n\u001b[1;32m     11\u001b[0m \u001b[38;5;28;01mreturn\u001b[39;00m AR_statistic\n",
      "File \u001b[0;32m/opt/anaconda3/lib/python3.12/site-packages/pandas/core/series.py:3248\u001b[0m, in \u001b[0;36mSeries.__matmul__\u001b[0;34m(self, other)\u001b[0m\n\u001b[1;32m   3245\u001b[0m     \u001b[38;5;28;01melse\u001b[39;00m:  \u001b[38;5;66;03m# pragma: no cover\u001b[39;00m\n\u001b[1;32m   3246\u001b[0m         \u001b[38;5;28;01mraise\u001b[39;00m \u001b[38;5;167;01mTypeError\u001b[39;00m(\u001b[38;5;124mf\u001b[39m\u001b[38;5;124m\"\u001b[39m\u001b[38;5;124munsupported type: \u001b[39m\u001b[38;5;132;01m{\u001b[39;00m\u001b[38;5;28mtype\u001b[39m(other)\u001b[38;5;132;01m}\u001b[39;00m\u001b[38;5;124m\"\u001b[39m)\n\u001b[0;32m-> 3248\u001b[0m \u001b[38;5;28;01mdef\u001b[39;00m \u001b[38;5;21m__matmul__\u001b[39m(\u001b[38;5;28mself\u001b[39m, other):\n\u001b[1;32m   3249\u001b[0m \u001b[38;5;250m    \u001b[39m\u001b[38;5;124;03m\"\"\"\u001b[39;00m\n\u001b[1;32m   3250\u001b[0m \u001b[38;5;124;03m    Matrix multiplication using binary `@` operator.\u001b[39;00m\n\u001b[1;32m   3251\u001b[0m \u001b[38;5;124;03m    \"\"\"\u001b[39;00m\n\u001b[1;32m   3252\u001b[0m     \u001b[38;5;28;01mreturn\u001b[39;00m \u001b[38;5;28mself\u001b[39m\u001b[38;5;241m.\u001b[39mdot(other)\n",
      "\u001b[0;31mKeyboardInterrupt\u001b[0m: "
     ]
    }
   ],
   "source": [
    "### anderson-rubin test\n",
    "\n",
    "def AR_stat (X,Y,Z,B_0):\n",
    "    N = Z.shape[0]\n",
    "    k = Z.shape[1]\n",
    "    \n",
    "    numerator = (y - X*B_0).T @ (Z@np.linalg.inv(Z.T@Z)@Z.T) @ (y - X*B_0).T / k\n",
    "    denominator = (y - X*B_0).T @ (np.eye(N) - Z@np.linalg.inv(Z.T@Z)@Z.T) @ (y - X*B_0).T / (N - k)\n",
    "    AR_statistic=numerator / denominator\n",
    "    \n",
    "    return AR_statistic\n",
    "\n",
    "beta0=np.linspace(-3,3,10000) # possible values for beta\n",
    "\n",
    "AR=[]\n",
    "for beta in beta0:\n",
    "    z=np.array(z).reshape(-1,1)\n",
    "    AR.append(AR_stat(x, y, z, beta))\n",
    "print(f\"The critical value for 2SLS AR-statistic is {chi2.ppf(0.95,1)}\")\n"
   ]
  },
  {
   "cell_type": "code",
   "execution_count": 6,
   "metadata": {},
   "outputs": [
    {
     "name": "stdout",
     "output_type": "stream",
     "text": [
      "The critical value for 2SLS AR-statistic is 3.8414588206941205\n"
     ]
    }
   ],
   "source": [
    "### anderson-rubin test more efficient calculation\n",
    "\n",
    "def AR_stat (X,Y,Z,B_0):\n",
    "    N = Z.shape[0]\n",
    "    k = Z.shape[1]\n",
    "    \n",
    "    w=y - X*B_0\n",
    "    numerator = partial_out(w,Z)[1].T@partial_out(w,Z)[1] / k\n",
    "    denominator =partial_out(w,Z)[0].T@partial_out(w,Z)[0]  / (N - k)\n",
    "    AR_statistic=numerator / denominator\n",
    "    \n",
    "    return AR_statistic\n",
    "\n",
    "beta0=np.linspace(-10,10,100000) # possible values for beta\n",
    "\n",
    "AR=[]\n",
    "for beta in beta0:\n",
    "    z=np.array(z).reshape(-1,1)\n",
    "    AR.append(AR_stat(x, y, z, beta))\n",
    "print(f\"The critical value for 2SLS AR-statistic is {chi2.ppf(0.95,1)}\")\n"
   ]
  },
  {
   "cell_type": "code",
   "execution_count": 7,
   "metadata": {},
   "outputs": [
    {
     "name": "stdout",
     "output_type": "stream",
     "text": [
      "The 95% confidence interval for AR-statistic is (-infty,-1.4763147631476308),0.11910119101191086,+infty)\n"
     ]
    }
   ],
   "source": [
    "critical_value=chi2.ppf(0.95,1)\n",
    "beta_lower=beta0[AR>chi2.ppf(0.95,1)][0]\n",
    "beta_upper=beta0[AR>chi2.ppf(0.95,1)][-1]\n",
    "print(f\"The 95% confidence interval for AR-statistic is (-infty,{beta_lower}),{beta_upper},+infty)\")\n"
   ]
  },
  {
   "cell_type": "code",
   "execution_count": 10,
   "metadata": {},
   "outputs": [
    {
     "name": "stdout",
     "output_type": "stream",
     "text": [
      "The first stage F-statistic is given by: 2.810\n",
      "The AR-statistic is given by: 2.810 when beta equals to 100000\n",
      "The AR-statistic is given by: 2.810 when beta equals to -100000\n"
     ]
    }
   ],
   "source": [
    "## first stage F-statisitc\n",
    "def two_sls_first_stage_F_statistic(y, x, z):\n",
    "\n",
    "    n = len(y)\n",
    "\n",
    "    # Estimate pi_hat\n",
    "    pi_hat = np.sum(x*z)/np.sum(z**2)\n",
    "\n",
    "    # Compute residuals from 1st stage regression\n",
    "    x_hat = pi_hat*z\n",
    "    u_hat = x - x_hat\n",
    "\n",
    "    # Compute standard error of pi_hat\n",
    "    s_2 = np.sum(u_hat**2) / (n - 1)  # residual variance; (n-1) because we only have 1 regressor and no intercept\n",
    "    se_beta_hat = np.sqrt (s_2 / np.sum(z**2))  # standard error of 2SLS estimator\n",
    "\n",
    "    # t statistic\n",
    "    t_statistic=pi_hat/se_beta_hat\n",
    "    # F statistic when R=1\n",
    "    f_statistic=t_statistic**2\n",
    "\n",
    "    # Return fitted residuals\n",
    "    return f_statistic\n",
    "\n",
    "F_stat=two_sls_first_stage_F_statistic(y,X,Z)\n",
    "    \n",
    "print(f'The first stage F-statistic is given by: {F_stat:.3f}')\n",
    "print(f'The AR-statistic is given by: {AR_stat(X,y,z,100000):.3f} when beta equals to 100000')\n",
    "\n",
    "print(f'The AR-statistic is given by: {AR_stat(X,y,z,-100000):.3f} when beta equals to -100000')\n"
   ]
  },
  {
   "cell_type": "code",
   "execution_count": 13,
   "metadata": {},
   "outputs": [
    {
     "data": {
      "image/png": "[encoded data removed]",
      "text/plain": [
       "<Figure size 640x480 with 1 Axes>"
      ]
     },
     "metadata": {},
     "output_type": "display_data"
    }
   ],
   "source": [
    "fig, ax = plt.subplots()  \n",
    "y_value = 3.8414588206941205\n",
    "ax.plot(beta0,AR,color='cornflowerblue')  # Plot some data on the Axes.\n",
    "ax.axhline(y=3.8414588206941205, color='darkorange', linestyle='--', label='AR = 3.8415')  # Add a horizontal line\n",
    "ax.axhline(y=F_stat,color='mediumorchid', linestyle='--')\n",
    "ax.annotate(f'First Stage F-statistic: {F_stat:.3f}', \n",
    "            xy=(-6, F_stat-0.6), xycoords='data',  # Adjust `x` as needed for placement\n",
    "            xytext=(0, 5), textcoords='offset points',  # Offset slightly above the line\n",
    "            ha='center', va='bottom', color='mediumorchid')\n",
    "ax.vlines(x=[beta_lower,beta_upper],ymin=-0.2, ymax=3.841458820694120, color='sandybrown', linestyle='--', label=f'Lower bound = {beta_lower:.2f}')\n",
    "# ax.vlines(x=beta_upper, ymin=0, ymax=3.841458820694120,color='green', linestyle='--', label=f'Upper bound = {beta_upper:.2f}')\n",
    "# add the critical value annotation on the RHS of the y-axis\n",
    "ax.annotate(f'Critical value: {y_value:.3f}', \n",
    "            xy=(5, y_value), xycoords='data',  # Adjust `x` as needed for placement\n",
    "            xytext=(0, 5), textcoords='offset points',  # Offset slightly above the line\n",
    "            ha='center', va='bottom', color='chocolate')\n",
    "\n",
    "ax.set_ylim(-0.2, None)\n",
    "ax.set_xlim(-10.3, 10.3)\n",
    "\n",
    "# add the shaded area (CI)\n",
    "ax.fill_between((-10.3,beta_lower ), -0.2,y_value, color='sandybrown', alpha=0.2)\n",
    "ax.fill_between((beta_upper,10.3 ), -0.2,y_value, color='sandybrown', alpha=0.2)\n",
    "# add x-tick and xtick lable \n",
    "ax.set_xticks([beta_lower,beta_upper,5,-5,10,-10])  # Add beta_lower to the ticks\n",
    "ax.set_xticklabels([f'{beta_lower:.3f}',f'{beta_upper:.3f}',5,-5,10,-10],color=\"black\",rotation=-30)\n",
    "# Move the label for 0 above the x-axis\n",
    "# ax.annotate('0', \n",
    "#             xy=(0, -0.2), xycoords='data',  # Set the x-coordinate at 0\n",
    "#             xytext=(0, 10), textcoords='offset points',  # Offset above the x-axis\n",
    "#             ha='center', va='bottom', color='black') \n",
    "ax.set_title(\"Anderson-Rubin\")\n",
    "ax.set_xlabel(r\"$\\beta_0$\")\n",
    "ax.set_ylabel(\"AR statistics\")\n",
    "plt.savefig('anderson_rubin_plot.png', dpi=800, bbox_inches='tight')  # Export as a PNG file with high resolution\n",
    "\n",
    "plt.show()  "
   ]
  },
  {
   "cell_type": "markdown",
   "metadata": {},
   "source": [
    "### c)"
   ]
  },
  {
   "cell_type": "code",
   "execution_count": 197,
   "metadata": {},
   "outputs": [
    {
     "name": "stdout",
     "output_type": "stream",
     "text": [
      "The first stage F-statistic is given by: 2.810\n",
      "The AR-statistic is given by: 2.810 when beta equals to 100000\n",
      "The AR-statistic is given by: 2.810 when beta equals to -100000\n"
     ]
    }
   ],
   "source": [
    "## first stage F-statisitc\n",
    "def two_sls_first_stage_F_statistic(y, x, z):\n",
    "\n",
    "    n = len(y)\n",
    "\n",
    "    # Estimate pi_hat\n",
    "    pi_hat = np.sum(x*z)/np.sum(z**2)\n",
    "\n",
    "    # Compute residuals from 1st stage regression\n",
    "    x_hat = pi_hat*z\n",
    "    u_hat = x - x_hat\n",
    "\n",
    "    # Compute standard error of pi_hat\n",
    "    s_2 = np.sum(u_hat**2) / (n - 1)  # residual variance; (n-1) because we only have 1 regressor and no intercept\n",
    "    se_beta_hat = np.sqrt (s_2 / np.sum(z**2))  # standard error of 2SLS estimator\n",
    "\n",
    "    # t statistic\n",
    "    t_statistic=pi_hat/se_beta_hat\n",
    "    # F statistic when R=1\n",
    "    f_statistic=t_statistic**2\n",
    "\n",
    "    # Return fitted residuals\n",
    "    return f_statistic\n",
    "\n",
    "F_stat=two_sls_first_stage_F_statistic(y,X,Z)\n",
    "    \n",
    "print(f'The first stage F-statistic is given by: {F_stat:.3f}')\n",
    "print(f'The AR-statistic is given by: {AR_stat(X,y,z,100000):.3f} when beta equals to 100000')\n",
    "\n",
    "print(f'The AR-statistic is given by: {AR_stat(X,y,z,-100000):.3f} when beta equals to -100000')\n"
   ]
  },
  {
   "cell_type": "code",
   "execution_count": null,
   "metadata": {},
   "outputs": [],
   "source": []
  },
  {
   "cell_type": "code",
   "execution_count": null,
   "metadata": {},
   "outputs": [],
   "source": []
  }
 ],
 "metadata": {
  "kernelspec": {
   "display_name": "base",
   "language": "python",
   "name": "python3"
  },
  "language_info": {
   "codemirror_mode": {
    "name": "ipython",
    "version": 3
   },
   "file_extension": ".py",
   "mimetype": "text/x-python",
   "name": "python",
   "nbconvert_exporter": "python",
   "pygments_lexer": "ipython3",
   "version": "3.12.7"
  }
 },
 "nbformat": 4,
 "nbformat_minor": 2
}
